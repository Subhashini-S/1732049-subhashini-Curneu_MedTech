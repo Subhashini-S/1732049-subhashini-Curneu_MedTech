{
 "cells": [
  {
   "cell_type": "code",
   "execution_count": null,
   "metadata": {},
   "outputs": [],
   "source": [
    "import numpy as np\n",
    "import pandas as pd\n",
    "import matplotlib.pyplot as plt\n",
    "df = pd.read_csv('D:\\DATASETS/Signaldb.csv')\n",
    "\n",
    "\n",
    "dummy=data[['TEST TYPE','TEST NAME']]\n",
    "plot=pd.get_dummies(dummy)\n",
    "plot\n",
    "\n",
    "\n",
    "gender=pd.get_dummies(data['GENDER'])\n",
    "gender\n",
    "from sklearn.neighbors import KNeighborsClassifier\n",
    "from sklearn.model_selection import train_test_split\n",
    "knn = KNeighborsClassifier(n_neighbors = 5)\n",
    "x=plot\n",
    "y=gender\n",
    "x_train,x_test,y_train,y_test = train_test_split(x,y,test_size = 0.5, random_state = 20)\n",
    "knn.fit(x_train,y_train)\n",
    "prediction = knn.predict(x_test)\n",
    "print('accuracy: ', knn.score(x_test,y_test))\n"
   ]
  },
  {
   "cell_type": "code",
   "execution_count": null,
   "metadata": {},
   "outputs": [],
   "source": []
  },
  {
   "cell_type": "code",
   "execution_count": null,
   "metadata": {},
   "outputs": [],
   "source": []
  }
 ],
 "metadata": {
  "kernelspec": {
   "display_name": "Python 3",
   "language": "python",
   "name": "python3"
  },
  "language_info": {
   "codemirror_mode": {
    "name": "ipython",
    "version": 3
   },
   "file_extension": ".py",
   "mimetype": "text/x-python",
   "name": "python",
   "nbconvert_exporter": "python",
   "pygments_lexer": "ipython3",
   "version": "3.6.5"
  }
 },
 "nbformat": 4,
 "nbformat_minor": 2
}
